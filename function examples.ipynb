{
 "cells": [
  {
   "cell_type": "code",
   "execution_count": 1,
   "id": "fff70f1e-7d3f-4c64-8718-99b1c86309da",
   "metadata": {},
   "outputs": [
    {
     "data": {
      "text/plain": [
       "{'first name': 'Virat', 'last name': 'Kohli', 'scores': [], 'birth_year': 1988}"
      ]
     },
     "execution_count": 1,
     "metadata": {},
     "output_type": "execute_result"
    }
   ],
   "source": [
    "#created a dictionary\n",
    "virat={\n",
    "    'first name':'Virat',\n",
    "    'last name':'Kohli',\n",
    "    'scores':[],\n",
    "    'birth_year':1988\n",
    "}\n",
    "virat\n"
   ]
  },
  {
   "cell_type": "code",
   "execution_count": 2,
   "id": "c54d9e69-7821-42ad-a71f-600a859258ed",
   "metadata": {},
   "outputs": [],
   "source": [
    "3added scores values to key 'score'\n",
    "virat['scores'].append(80)\n",
    "virat['scores'].append(90)\n",
    "virat['scores'].append(0)\n"
   ]
  },
  {
   "cell_type": "code",
   "execution_count": 6,
   "id": "736c4e43-b2be-4fda-a4ed-8cc4a537cd16",
   "metadata": {},
   "outputs": [
    {
     "data": {
      "text/plain": [
       "{'first name': 'Virat',\n",
       " 'last name': 'Kohli',\n",
       " 'scores': [80, 90, 0],\n",
       " 'birth_year': 1988}"
      ]
     },
     "execution_count": 6,
     "metadata": {},
     "output_type": "execute_result"
    }
   ],
   "source": [
    "virat"
   ]
  },
  {
   "cell_type": "code",
   "execution_count": 4,
   "id": "79d45b7b-8f7a-4b97-a529-b12f9abd4e8e",
   "metadata": {},
   "outputs": [
    {
     "name": "stdout",
     "output_type": "stream",
     "text": [
      "56.666666666666664\n"
     ]
    }
   ],
   "source": [
    "#average of the scores scored by Virat\n",
    "def get_avg(player):\n",
    "    print(sum(player['scores'])/len(player['scores']))\n",
    "\n",
    "get_avg(virat)              \n",
    "          "
   ]
  },
  {
   "cell_type": "code",
   "execution_count": 11,
   "id": "ef5caa54-e4b9-4414-9818-7706255d84b9",
   "metadata": {},
   "outputs": [],
   "source": [
    "#age of Virat\n",
    "from datetime import datetime\n",
    "\n",
    "def get_age(player):\n",
    "    current_year = datetime.now().year\n",
    "    return current_year - player['birth_year']"
   ]
  },
  {
   "cell_type": "code",
   "execution_count": 12,
   "id": "ff501b0b-e733-4f7d-9b9b-40f5324d1730",
   "metadata": {},
   "outputs": [
    {
     "name": "stdout",
     "output_type": "stream",
     "text": [
      "age= 37\n"
     ]
    }
   ],
   "source": [
    "print(f\"age= {get_age(virat)}\")"
   ]
  },
  {
   "cell_type": "code",
   "execution_count": null,
   "id": "b0b81f59-53ba-4903-92b4-603ae2eedb06",
   "metadata": {},
   "outputs": [],
   "source": []
  }
 ],
 "metadata": {
  "kernelspec": {
   "display_name": "Python 3 (ipykernel)",
   "language": "python",
   "name": "python3"
  },
  "language_info": {
   "codemirror_mode": {
    "name": "ipython",
    "version": 3
   },
   "file_extension": ".py",
   "mimetype": "text/x-python",
   "name": "python",
   "nbconvert_exporter": "python",
   "pygments_lexer": "ipython3",
   "version": "3.11.7"
  }
 },
 "nbformat": 4,
 "nbformat_minor": 5
}
