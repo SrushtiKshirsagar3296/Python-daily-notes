{
 "cells": [
  {
   "cell_type": "code",
   "execution_count": 2,
   "id": "0fb2a8d3-9bbd-45c0-ac40-cafea7587664",
   "metadata": {},
   "outputs": [],
   "source": [
    "import numpy as np"
   ]
  },
  {
   "cell_type": "code",
   "execution_count": 4,
   "id": "27885a89-7e7d-4306-91cf-7f1fe0dcd686",
   "metadata": {},
   "outputs": [],
   "source": [
    "rev_1=np.array([10,20,30])"
   ]
  },
  {
   "cell_type": "code",
   "execution_count": 3,
   "id": "6c9e9fee-a0b7-4ec0-846d-c5020ed8b84d",
   "metadata": {},
   "outputs": [
    {
     "data": {
      "text/plain": [
       "array([10, 20, 30])"
      ]
     },
     "execution_count": 3,
     "metadata": {},
     "output_type": "execute_result"
    }
   ],
   "source": [
    "rev_1"
   ]
  },
  {
   "cell_type": "code",
   "execution_count": 5,
   "id": "d3d2263a-26fc-495c-9b88-2f28fce84417",
   "metadata": {},
   "outputs": [
    {
     "data": {
      "text/plain": [
       "1"
      ]
     },
     "execution_count": 5,
     "metadata": {},
     "output_type": "execute_result"
    }
   ],
   "source": [
    "rev_1.ndim #used to get dimension"
   ]
  },
  {
   "cell_type": "code",
   "execution_count": 6,
   "id": "e277001c-b532-4af5-bb52-63076c448710",
   "metadata": {},
   "outputs": [
    {
     "data": {
      "text/plain": [
       "array([[10, 20, 30],\n",
       "       [40, 50, 60]])"
      ]
     },
     "execution_count": 6,
     "metadata": {},
     "output_type": "execute_result"
    }
   ],
   "source": [
    "rev_2=np.array([[10,20,30],[40,50,60]])   #this is a 2 dimension array\n",
    "rev_2"
   ]
  },
  {
   "cell_type": "code",
   "execution_count": 7,
   "id": "b0af37b5-798e-461b-a68e-bf9cbff83f9b",
   "metadata": {},
   "outputs": [
    {
     "data": {
      "text/plain": [
       "50"
      ]
     },
     "execution_count": 7,
     "metadata": {},
     "output_type": "execute_result"
    }
   ],
   "source": [
    "rev_2[1,1] # it is used to get the value at that point "
   ]
  },
  {
   "cell_type": "code",
   "execution_count": 8,
   "id": "d0c1a3dd-4265-4aeb-a9c0-083743084355",
   "metadata": {},
   "outputs": [
    {
     "data": {
      "text/plain": [
       "array([[ 10,  20,  30],\n",
       "       [ 40, 100,  60]])"
      ]
     },
     "execution_count": 8,
     "metadata": {},
     "output_type": "execute_result"
    }
   ],
   "source": [
    "#But if we want to change a value at that particular dimension, we can do this\n",
    "rev_2[1,1]=100\n",
    "rev_2"
   ]
  },
  {
   "cell_type": "code",
   "execution_count": 9,
   "id": "55722cbd-cc9e-453f-ba71-2c7a9921294d",
   "metadata": {},
   "outputs": [
    {
     "data": {
      "text/plain": [
       "dtype('int32')"
      ]
     },
     "execution_count": 9,
     "metadata": {},
     "output_type": "execute_result"
    }
   ],
   "source": [
    "# to get the type\n",
    "rev_2.dtype"
   ]
  },
  {
   "cell_type": "code",
   "execution_count": 10,
   "id": "11d8af92-5f89-4af1-aa02-f877533cb4be",
   "metadata": {},
   "outputs": [
    {
     "data": {
      "text/plain": [
       "dtype('float64')"
      ]
     },
     "execution_count": 10,
     "metadata": {},
     "output_type": "execute_result"
    }
   ],
   "source": [
    "#If we want to change the data type we can do like this\n",
    "rev_2=np.array([[10,20,30],[40,50,60]], dtype=np.float64)\n",
    "rev_2.dtype\n",
    "#we can do float8, float16, float64, depending upon our requirement , as 1byte=8bits , so if we want 2 byte we will use float16"
   ]
  },
  {
   "cell_type": "code",
   "execution_count": 11,
   "id": "85676c50-cedd-49a2-bdbc-e40dae76014e",
   "metadata": {},
   "outputs": [
    {
     "data": {
      "text/plain": [
       "(2, 3)"
      ]
     },
     "execution_count": 11,
     "metadata": {},
     "output_type": "execute_result"
    }
   ],
   "source": [
    "# to get the no of rows and columns \n",
    "rev_2.shape"
   ]
  },
  {
   "cell_type": "code",
   "execution_count": 13,
   "id": "5139ffee-6af4-46ed-a490-e3b041b81f19",
   "metadata": {},
   "outputs": [
    {
     "data": {
      "text/plain": [
       "array([10, 20, 30])"
      ]
     },
     "execution_count": 13,
     "metadata": {},
     "output_type": "execute_result"
    }
   ],
   "source": [
    "#to sort the elements\n",
    "np.sort(rev_1)"
   ]
  },
  {
   "cell_type": "code",
   "execution_count": 17,
   "id": "4ddc03b7-de4e-4678-a624-025e16b37475",
   "metadata": {},
   "outputs": [
    {
     "data": {
      "text/plain": [
       "array([10., 20., 30., 40., 50., 60.])"
      ]
     },
     "execution_count": 17,
     "metadata": {},
     "output_type": "execute_result"
    }
   ],
   "source": [
    "#In 2D array if we want to sort it and arrange it in a linear way we use keyword axis=None\n",
    "np.sort(rev_2, axis=None)"
   ]
  },
  {
   "cell_type": "code",
   "execution_count": 19,
   "id": "9443a911-06de-4e1f-bd53-db1a93c46c25",
   "metadata": {},
   "outputs": [
    {
     "data": {
      "text/plain": [
       "array([[1., 1.],\n",
       "       [1., 1.]])"
      ]
     },
     "execution_count": 19,
     "metadata": {},
     "output_type": "execute_result"
    }
   ],
   "source": [
    "#If we want to create a array of zeros and ones \n",
    "np.ones((2,2))\n"
   ]
  },
  {
   "cell_type": "code",
   "execution_count": 20,
   "id": "d8d4cdf6-1931-4bf0-90bb-eda36d3b5243",
   "metadata": {},
   "outputs": [
    {
     "data": {
      "text/plain": [
       "array([[0., 0.],\n",
       "       [0., 0.]])"
      ]
     },
     "execution_count": 20,
     "metadata": {},
     "output_type": "execute_result"
    }
   ],
   "source": [
    "np.zeros((2,2))"
   ]
  },
  {
   "cell_type": "code",
   "execution_count": 21,
   "id": "985f95d1-160d-4e77-bdc1-19243142e685",
   "metadata": {},
   "outputs": [
    {
     "data": {
      "text/plain": [
       "array([0, 1, 2])"
      ]
     },
     "execution_count": 21,
     "metadata": {},
     "output_type": "execute_result"
    }
   ],
   "source": [
    "#to create a array \n",
    "np.arange(3)"
   ]
  },
  {
   "cell_type": "code",
   "execution_count": 22,
   "id": "910faa45-f5da-4eb3-b05b-1cc81128c330",
   "metadata": {},
   "outputs": [
    {
     "data": {
      "text/plain": [
       "array([10, 11, 12, 13, 14, 15, 16, 17, 18, 19])"
      ]
     },
     "execution_count": 22,
     "metadata": {},
     "output_type": "execute_result"
    }
   ],
   "source": [
    "#to create a array between the numbers 10 to 20 \n",
    "np.arange(10,20)"
   ]
  },
  {
   "cell_type": "code",
   "execution_count": 23,
   "id": "9aee1fc1-7ae3-409f-aea1-9bd853a33a83",
   "metadata": {},
   "outputs": [
    {
     "data": {
      "text/plain": [
       "array([10, 12, 14, 16, 18])"
      ]
     },
     "execution_count": 23,
     "metadata": {},
     "output_type": "execute_result"
    }
   ],
   "source": [
    "#to create a array of step size 2 \n",
    "np.arange(10,20,2)"
   ]
  },
  {
   "cell_type": "code",
   "execution_count": 24,
   "id": "605f1d5b-49b1-4738-8a8c-cb29429698c7",
   "metadata": {},
   "outputs": [
    {
     "data": {
      "text/plain": [
       "array([10., 15., 20.])"
      ]
     },
     "execution_count": 24,
     "metadata": {},
     "output_type": "execute_result"
    }
   ],
   "source": [
    "#if we want to make equal parts of a number range , ex make 3 equal parts of range from 10 to 20\n",
    "np.linspace(10,20,3)"
   ]
  },
  {
   "cell_type": "code",
   "execution_count": 25,
   "id": "5bd8b031-495f-48bb-a5e7-bfdb0ba497b0",
   "metadata": {},
   "outputs": [],
   "source": [
    "#If u want to make 2d array into linear array , there are two methods ravel and flatten \n",
    "#ravel =If you change the original array, the raveled one might change too.\n",
    "#flatten= Always creates a new array, Safe to use if you want to keep the original array unchanged\n",
    "\n"
   ]
  },
  {
   "cell_type": "code",
   "execution_count": 28,
   "id": "cd7982c8-8ca2-45bc-a3ff-6d1bccf1b1b3",
   "metadata": {},
   "outputs": [
    {
     "data": {
      "text/plain": [
       "array([10., 20., 30., 40., 50., 60.])"
      ]
     },
     "execution_count": 28,
     "metadata": {},
     "output_type": "execute_result"
    }
   ],
   "source": [
    "rev_2.ravel()"
   ]
  },
  {
   "cell_type": "code",
   "execution_count": 29,
   "id": "74bd2f3e-2a0a-4d16-8bbe-9fa662369129",
   "metadata": {},
   "outputs": [
    {
     "data": {
      "text/plain": [
       "array([10., 20., 30., 40., 50., 60.])"
      ]
     },
     "execution_count": 29,
     "metadata": {},
     "output_type": "execute_result"
    }
   ],
   "source": [
    "rev_2.flatten()"
   ]
  },
  {
   "cell_type": "code",
   "execution_count": 38,
   "id": "81989729-951f-4eb1-abb8-21dbcb0f8797",
   "metadata": {},
   "outputs": [
    {
     "data": {
      "text/plain": [
       "array([[10., 20., 30.],\n",
       "       [40., 50., 60.]])"
      ]
     },
     "execution_count": 38,
     "metadata": {},
     "output_type": "execute_result"
    }
   ],
   "source": [
    "# to reshape a array\n",
    "rev_2.reshape(2,3)"
   ]
  },
  {
   "cell_type": "code",
   "execution_count": 36,
   "id": "4ff2ce97-c6e7-4907-a767-f87dfdba6082",
   "metadata": {},
   "outputs": [
    {
     "data": {
      "text/plain": [
       "10.0"
      ]
     },
     "execution_count": 36,
     "metadata": {},
     "output_type": "execute_result"
    }
   ],
   "source": [
    "#to find min and max\n",
    "rev_2.min()\n",
    "\n"
   ]
  },
  {
   "cell_type": "code",
   "execution_count": 39,
   "id": "3adccc19-435d-40ae-8bff-338077ac15b9",
   "metadata": {},
   "outputs": [
    {
     "data": {
      "text/plain": [
       "array([ 60., 150.])"
      ]
     },
     "execution_count": 39,
     "metadata": {},
     "output_type": "execute_result"
    }
   ],
   "source": [
    "# if we want to do sum horizonatally of each row\n",
    "rev_2.sum(axis=1)"
   ]
  },
  {
   "cell_type": "code",
   "execution_count": 40,
   "id": "4d7aec25-99c1-4a9a-a26d-1dc30c83f69e",
   "metadata": {},
   "outputs": [
    {
     "data": {
      "text/plain": [
       "array([50., 70., 90.])"
      ]
     },
     "execution_count": 40,
     "metadata": {},
     "output_type": "execute_result"
    }
   ],
   "source": [
    "rev_2.sum(axis=0)"
   ]
  },
  {
   "cell_type": "code",
   "execution_count": 42,
   "id": "545b4d3c-9bb1-4d04-a424-85973a5a0f4c",
   "metadata": {},
   "outputs": [
    {
     "name": "stdout",
     "output_type": "stream",
     "text": [
      "row= [10. 20. 30.]\n",
      "row= [40. 50. 60.]\n"
     ]
    }
   ],
   "source": [
    "for row in rev_2:\n",
    "    print(\"row=\", row)"
   ]
  },
  {
   "cell_type": "code",
   "execution_count": 47,
   "id": "87ff60e1-9046-42b3-8ad7-a466e465a281",
   "metadata": {},
   "outputs": [
    {
     "data": {
      "text/plain": [
       "array([1., 2., 4.])"
      ]
     },
     "execution_count": 47,
     "metadata": {},
     "output_type": "execute_result"
    }
   ],
   "source": [
    "#to find the square root\n",
    "b=np.array([1,4,16])\n",
    "np.sqrt(b)"
   ]
  },
  {
   "cell_type": "code",
   "execution_count": 48,
   "id": "b1459a1e-82fb-41f8-98da-3650445d3660",
   "metadata": {},
   "outputs": [
    {
     "data": {
      "text/plain": [
       "array([  1,  16, 256])"
      ]
     },
     "execution_count": 48,
     "metadata": {},
     "output_type": "execute_result"
    }
   ],
   "source": [
    "#to find the squares\n",
    "np.square(b)"
   ]
  },
  {
   "cell_type": "code",
   "execution_count": 49,
   "id": "bcb0da91-38f4-461c-af44-c68d10f15e48",
   "metadata": {},
   "outputs": [
    {
     "data": {
      "text/plain": [
       "6.48074069840786"
      ]
     },
     "execution_count": 49,
     "metadata": {},
     "output_type": "execute_result"
    }
   ],
   "source": [
    "#to find the standard deviation\n",
    "np.std(b)"
   ]
  },
  {
   "cell_type": "code",
   "execution_count": 6,
   "id": "6fc3b32b-28c8-470e-9cdd-e3e8c9e91cb7",
   "metadata": {},
   "outputs": [],
   "source": [
    "#rows represnt different products and columns represnts different regions (usa , india , china)\n",
    "q1=np.array([\n",
    "    [200,220,250],#iphone\n",
    "    [150,180,210],#ipad\n",
    "    [300,330,360]#macbook \n",
    "])\n",
    "\n",
    "q2=np.array([\n",
    "[209,231,259],\n",
    "[155,192,222],\n",
    "[310,340,375]\n",
    "])"
   ]
  },
  {
   "cell_type": "code",
   "execution_count": 7,
   "id": "55bfb4bd-e556-4917-b682-19b1953adc17",
   "metadata": {},
   "outputs": [
    {
     "data": {
      "text/plain": [
       "array([[409, 451, 509],\n",
       "       [305, 372, 432],\n",
       "       [610, 670, 735]])"
      ]
     },
     "execution_count": 7,
     "metadata": {},
     "output_type": "execute_result"
    }
   ],
   "source": [
    "q1+q2 # combined sales from both the countries"
   ]
  },
  {
   "cell_type": "code",
   "execution_count": 8,
   "id": "511f2ec9-0445-4dc1-89ab-a51437876a4c",
   "metadata": {},
   "outputs": [
    {
     "data": {
      "text/plain": [
       "array([[4.5       , 5.        , 3.6       ],\n",
       "       [3.33333333, 6.66666667, 5.71428571],\n",
       "       [3.33333333, 3.03030303, 4.16666667]])"
      ]
     },
     "execution_count": 8,
     "metadata": {},
     "output_type": "execute_result"
    }
   ],
   "source": [
    "# if u want to find how much more percent wise did q2 have more sales than q1\n",
    "(q2-q1)*100/q1"
   ]
  },
  {
   "cell_type": "code",
   "execution_count": 12,
   "id": "dd8e74d1-1642-46b2-a9a0-8291512bb4c0",
   "metadata": {},
   "outputs": [
    {
     "data": {
      "text/plain": [
       "array([[2000, 2640, 2750],\n",
       "       [1200, 1620, 2100],\n",
       "       [4500, 5280, 6120]])"
      ]
     },
     "execution_count": 12,
     "metadata": {},
     "output_type": "execute_result"
    }
   ],
   "source": [
    "#If I want to find revenue\n",
    "prices=np.array([\n",
    "    [10,12,11],\n",
    "    [8,9,10],\n",
    "    [15,16,17]\n",
    "])\n",
    "q1_revenue=prices*q1\n",
    "q1_revenue"
   ]
  },
  {
   "cell_type": "code",
   "execution_count": 14,
   "id": "079645cf-96a1-4593-bd54-5b69b8a8300d",
   "metadata": {},
   "outputs": [
    {
     "data": {
      "text/plain": [
       "array([[1600., 2112., 2200.],\n",
       "       [ 960., 1296., 1680.],\n",
       "       [3600., 4224., 4896.]])"
      ]
     },
     "execution_count": 14,
     "metadata": {},
     "output_type": "execute_result"
    }
   ],
   "source": [
    "#if i have given discount of 20% , then total revenue is \n",
    "q1_discount=q1_revenue*0.2\n",
    "total_rev=q1_revenue-q1_discount\n",
    "total_rev"
   ]
  },
  {
   "cell_type": "code",
   "execution_count": 16,
   "id": "ee495863-ad3c-4099-a1d3-2bb684bd0b87",
   "metadata": {},
   "outputs": [
    {
     "data": {
      "text/plain": [
       "array([450000, 370000])"
      ]
     },
     "execution_count": 16,
     "metadata": {},
     "output_type": "execute_result"
    }
   ],
   "source": [
    "#if we want to multiple, add matrix wise entity like 1 element multipled bby 1st element , 2nd element multiplied by 2nd element \n",
    "#we use dot product\n",
    "features=np.array([\n",
    "    [2000,3],#house 1\n",
    "    [1800,2]#house 2\n",
    "])\n",
    "\n",
    "weights=np.array([150,50000])\n",
    "np.dot(features,weights)"
   ]
  },
  {
   "cell_type": "code",
   "execution_count": 33,
   "id": "4b5265ed-8fc8-41cf-8e44-fdf253f6107b",
   "metadata": {},
   "outputs": [],
   "source": [
    "a=np.array([1,2,3,4,5])"
   ]
  },
  {
   "cell_type": "code",
   "execution_count": 35,
   "id": "83a05fc0-4a32-45cc-8fad-9cafeb188fbe",
   "metadata": {},
   "outputs": [],
   "source": [
    "#We cannot access 1 dimensional array backwards but we can access the 2d array backwards"
   ]
  },
  {
   "cell_type": "code",
   "execution_count": 37,
   "id": "17f2fd3e-0025-41ca-a421-53568482b589",
   "metadata": {},
   "outputs": [],
   "source": [
    "a=np.array([[1,2,3,4,5],\n",
    "           [6,7,8,9,10]\n",
    "           ])"
   ]
  },
  {
   "cell_type": "code",
   "execution_count": 40,
   "id": "94a6458c-8661-4bf9-a269-4b31c16745db",
   "metadata": {},
   "outputs": [
    {
     "data": {
      "text/plain": [
       "array([7, 8])"
      ]
     },
     "execution_count": 40,
     "metadata": {},
     "output_type": "execute_result"
    }
   ],
   "source": [
    "a[-1,1:3]"
   ]
  },
  {
   "cell_type": "code",
   "execution_count": 41,
   "id": "d7727854-d57e-42df-b9dc-785b3a12c51e",
   "metadata": {},
   "outputs": [],
   "source": [
    "a=np.array([[1, 2, 3],\n",
    "           [6,  7, 8 ],\n",
    "           [17,18, 19]\n",
    "           ])"
   ]
  },
  {
   "cell_type": "code",
   "execution_count": 43,
   "id": "587e4d48-0619-431f-9d03-26a723d8346e",
   "metadata": {},
   "outputs": [
    {
     "data": {
      "text/plain": [
       "array([[ 2,  3],\n",
       "       [ 7,  8],\n",
       "       [18, 19]])"
      ]
     },
     "execution_count": 43,
     "metadata": {},
     "output_type": "execute_result"
    }
   ],
   "source": [
    "#if I want only the last 2 columns, \":\" beacuse i want all the rows \n",
    "a[:,1:3]"
   ]
  },
  {
   "cell_type": "code",
   "execution_count": 5,
   "id": "ebdedddb-4f21-4c4e-91b0-2154cee05307",
   "metadata": {},
   "outputs": [],
   "source": [
    "#customer id , name\n",
    "c=np.array([[101,'Mira'],\n",
    "          [102,'Abdul'],\n",
    "           [103,'Andrea']\n",
    "           ])\n",
    "#customer id, purchase amt, purchase date\n",
    "d=np.array([\n",
    "    [101, 250.50, '2023-08-01'],\n",
    "    [102, 150.00, '2023-08-02'],\n",
    "    [103, 300.75, '2023-08-01'],\n",
    "])\n"
   ]
  },
  {
   "cell_type": "code",
   "execution_count": 7,
   "id": "1f53d983-9f08-436d-8b5c-8928d84e0620",
   "metadata": {},
   "outputs": [
    {
     "data": {
      "text/plain": [
       "array([['101', 'Mira', '101', '250.5', '2023-08-01'],\n",
       "       ['102', 'Abdul', '102', '150.0', '2023-08-02'],\n",
       "       ['103', 'Andrea', '103', '300.75', '2023-08-01']], dtype='<U32')"
      ]
     },
     "execution_count": 7,
     "metadata": {},
     "output_type": "execute_result"
    }
   ],
   "source": [
    "np.hstack((c,d)) #to add everything all together"
   ]
  },
  {
   "cell_type": "code",
   "execution_count": 8,
   "id": "9954da6b-a2b5-497f-acdc-6b603535bad1",
   "metadata": {},
   "outputs": [],
   "source": [
    "#if we want to add more \n",
    "e=np.array([\n",
    "    [104,'venkat'],\n",
    "    [105,'john'],\n",
    "    [106,'srushti']\n",
    "])\n"
   ]
  },
  {
   "cell_type": "code",
   "execution_count": 10,
   "id": "7e36c9c5-c015-4f7a-8b7c-90fd85d1e889",
   "metadata": {},
   "outputs": [
    {
     "data": {
      "text/plain": [
       "array([['101', 'Mira'],\n",
       "       ['102', 'Abdul'],\n",
       "       ['103', 'Andrea'],\n",
       "       ['104', 'venkat'],\n",
       "       ['105', 'john'],\n",
       "       ['106', 'srushti']], dtype='<U11')"
      ]
     },
     "execution_count": 10,
     "metadata": {},
     "output_type": "execute_result"
    }
   ],
   "source": [
    "np.vstack((c,e)) #v means vertically stack"
   ]
  },
  {
   "cell_type": "code",
   "execution_count": 11,
   "id": "5a57a75c-336a-469f-80c3-360fbad3571f",
   "metadata": {},
   "outputs": [],
   "source": [
    "transactions=np.array([\n",
    "    ['mira',101, 250.50, '2023-08-01'],\n",
    "    ['subodh',102, 150.00, '2023-08-02'],\n",
    "    ['mishra',103, 300.75, '2023-08-01'],\n",
    "])"
   ]
  },
  {
   "cell_type": "code",
   "execution_count": 12,
   "id": "3c5af5f7-6de9-45f1-8881-a54c857abcbb",
   "metadata": {},
   "outputs": [
    {
     "data": {
      "text/plain": [
       "[array([['mira', '101', '250.5'],\n",
       "        ['subodh', '102', '150.0'],\n",
       "        ['mishra', '103', '300.75']], dtype='<U32'),\n",
       " array([['2023-08-01'],\n",
       "        ['2023-08-02'],\n",
       "        ['2023-08-01']], dtype='<U32')]"
      ]
     },
     "execution_count": 12,
     "metadata": {},
     "output_type": "execute_result"
    }
   ],
   "source": [
    "#if we want to split horizontally \n",
    "np.hsplit(transactions,[3]) "
   ]
  },
  {
   "cell_type": "code",
   "execution_count": 13,
   "id": "34a66ac0-88c9-40f2-9c69-6fd15b2cdd8e",
   "metadata": {},
   "outputs": [],
   "source": [
    "#if we want to store the horizontally split amount in 2 containers \n",
    "a,b=np.hsplit(transactions,[3]) "
   ]
  },
  {
   "cell_type": "code",
   "execution_count": 14,
   "id": "d3935d63-4754-4245-af9e-9d2183a7e52c",
   "metadata": {},
   "outputs": [
    {
     "data": {
      "text/plain": [
       "array([['mira', '101', '250.5'],\n",
       "       ['subodh', '102', '150.0'],\n",
       "       ['mishra', '103', '300.75']], dtype='<U32')"
      ]
     },
     "execution_count": 14,
     "metadata": {},
     "output_type": "execute_result"
    }
   ],
   "source": [
    "a"
   ]
  },
  {
   "cell_type": "code",
   "execution_count": 15,
   "id": "37408015-bcfa-4a90-a8ed-09a257460e34",
   "metadata": {},
   "outputs": [
    {
     "data": {
      "text/plain": [
       "array([['2023-08-01'],\n",
       "       ['2023-08-02'],\n",
       "       ['2023-08-01']], dtype='<U32')"
      ]
     },
     "execution_count": 15,
     "metadata": {},
     "output_type": "execute_result"
    }
   ],
   "source": [
    "b"
   ]
  },
  {
   "cell_type": "code",
   "execution_count": 16,
   "id": "b030cbb8-2adc-43fd-8109-26d1eb50ffe2",
   "metadata": {},
   "outputs": [
    {
     "data": {
      "text/plain": [
       "array([[0., 0., 0., 0.],\n",
       "       [0., 0., 0., 0.],\n",
       "       [0., 0., 0., 0.]])"
      ]
     },
     "execution_count": 16,
     "metadata": {},
     "output_type": "execute_result"
    }
   ],
   "source": [
    "np.zeros((3,4))"
   ]
  },
  {
   "cell_type": "code",
   "execution_count": 17,
   "id": "92e7d3aa-4984-4f22-a502-79a085ff581b",
   "metadata": {},
   "outputs": [
    {
     "data": {
      "text/plain": [
       "array([0, 1, 2, 3, 4, 5, 6, 7, 8, 9])"
      ]
     },
     "execution_count": 17,
     "metadata": {},
     "output_type": "execute_result"
    }
   ],
   "source": [
    "np.arange(10)"
   ]
  },
  {
   "cell_type": "code",
   "execution_count": 20,
   "id": "d53d81f6-2a60-4779-ad40-be7e14840fe4",
   "metadata": {},
   "outputs": [
    {
     "data": {
      "text/plain": [
       "array([1., 3., 5.])"
      ]
     },
     "execution_count": 20,
     "metadata": {},
     "output_type": "execute_result"
    }
   ],
   "source": [
    "np.linspace(1,5,3)"
   ]
  },
  {
   "cell_type": "code",
   "execution_count": null,
   "id": "5ecb387d-22d1-4281-8af3-fd5545410f3f",
   "metadata": {},
   "outputs": [],
   "source": []
  }
 ],
 "metadata": {
  "kernelspec": {
   "display_name": "Python 3 (ipykernel)",
   "language": "python",
   "name": "python3"
  },
  "language_info": {
   "codemirror_mode": {
    "name": "ipython",
    "version": 3
   },
   "file_extension": ".py",
   "mimetype": "text/x-python",
   "name": "python",
   "nbconvert_exporter": "python",
   "pygments_lexer": "ipython3",
   "version": "3.11.7"
  }
 },
 "nbformat": 4,
 "nbformat_minor": 5
}
